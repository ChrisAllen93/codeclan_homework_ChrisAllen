{
 "cells": [
  {
   "cell_type": "markdown",
   "id": "a227158e",
   "metadata": {},
   "source": [
    "# Question 1"
   ]
  },
  {
   "cell_type": "code",
   "execution_count": 1,
   "id": "6bd4ba35",
   "metadata": {},
   "outputs": [],
   "source": [
    "shopping = [\"spam\", \"ham\", \"eggs\", \"ham\"]"
   ]
  },
  {
   "cell_type": "code",
   "execution_count": 2,
   "id": "c976ce9c",
   "metadata": {},
   "outputs": [
    {
     "data": {
      "text/plain": [
       "'ham'"
      ]
     },
     "execution_count": 2,
     "metadata": {},
     "output_type": "execute_result"
    }
   ],
   "source": [
    "shopping[1]"
   ]
  },
  {
   "cell_type": "code",
   "execution_count": 3,
   "id": "c4936706",
   "metadata": {},
   "outputs": [
    {
     "data": {
      "text/plain": [
       "['spam', 'ham', 'eggs']"
      ]
     },
     "execution_count": 3,
     "metadata": {},
     "output_type": "execute_result"
    }
   ],
   "source": [
    "shopping[:3]"
   ]
  },
  {
   "cell_type": "code",
   "execution_count": 4,
   "id": "4d623a11",
   "metadata": {},
   "outputs": [
    {
     "data": {
      "text/plain": [
       "'ham'"
      ]
     },
     "execution_count": 4,
     "metadata": {},
     "output_type": "execute_result"
    }
   ],
   "source": [
    "shopping[-1]"
   ]
  },
  {
   "cell_type": "markdown",
   "id": "7c229149",
   "metadata": {},
   "source": [
    "# Question 2"
   ]
  },
  {
   "cell_type": "code",
   "execution_count": 5,
   "id": "fd378f67",
   "metadata": {},
   "outputs": [],
   "source": [
    "stops = [\"Croy\", \"Cumbernauld\", \"Falkirk High\", \"Linlithgow\", \"Livingston\", \"Haymarket\"] "
   ]
  },
  {
   "cell_type": "code",
   "execution_count": 6,
   "id": "4c50682e",
   "metadata": {},
   "outputs": [
    {
     "data": {
      "text/plain": [
       "['Croy',\n",
       " 'Cumbernauld',\n",
       " 'Falkirk High',\n",
       " 'Linlithgow',\n",
       " 'Livingston',\n",
       " 'Haymarket',\n",
       " 'Edinburgh Waverley']"
      ]
     },
     "execution_count": 6,
     "metadata": {},
     "output_type": "execute_result"
    }
   ],
   "source": [
    "stops.append(\"Edinburgh Waverley\")\n",
    "stops"
   ]
  },
  {
   "cell_type": "code",
   "execution_count": 7,
   "id": "4504e785",
   "metadata": {},
   "outputs": [
    {
     "data": {
      "text/plain": [
       "['Queen Street',\n",
       " 'Croy',\n",
       " 'Cumbernauld',\n",
       " 'Falkirk High',\n",
       " 'Linlithgow',\n",
       " 'Livingston',\n",
       " 'Haymarket',\n",
       " 'Edinburgh Waverley']"
      ]
     },
     "execution_count": 7,
     "metadata": {},
     "output_type": "execute_result"
    }
   ],
   "source": [
    "stops.insert(0, \"Queen Street\")\n",
    "stops"
   ]
  },
  {
   "cell_type": "code",
   "execution_count": 8,
   "id": "91f60698",
   "metadata": {},
   "outputs": [
    {
     "data": {
      "text/plain": [
       "1"
      ]
     },
     "execution_count": 8,
     "metadata": {},
     "output_type": "execute_result"
    }
   ],
   "source": [
    "stops.index(\"Croy\")"
   ]
  },
  {
   "cell_type": "code",
   "execution_count": 9,
   "id": "eea15ed3",
   "metadata": {},
   "outputs": [
    {
     "data": {
      "text/plain": [
       "3"
      ]
     },
     "execution_count": 9,
     "metadata": {},
     "output_type": "execute_result"
    }
   ],
   "source": [
    "stops.index(\"Falkirk High\")"
   ]
  },
  {
   "cell_type": "code",
   "execution_count": 10,
   "id": "9aede9ba",
   "metadata": {},
   "outputs": [
    {
     "data": {
      "text/plain": [
       "['Queen Street',\n",
       " 'Croy',\n",
       " 'Cumbernauld',\n",
       " 'Falkirk High',\n",
       " 'Polmont',\n",
       " 'Linlithgow',\n",
       " 'Livingston',\n",
       " 'Haymarket',\n",
       " 'Edinburgh Waverley']"
      ]
     },
     "execution_count": 10,
     "metadata": {},
     "output_type": "execute_result"
    }
   ],
   "source": [
    "stops.insert(4, \"Polmont\")\n",
    "stops"
   ]
  },
  {
   "cell_type": "code",
   "execution_count": 11,
   "id": "4bd21d62",
   "metadata": {},
   "outputs": [
    {
     "data": {
      "text/plain": [
       "['Queen Street',\n",
       " 'Croy',\n",
       " 'Cumbernauld',\n",
       " 'Falkirk High',\n",
       " 'Polmont',\n",
       " 'Linlithgow',\n",
       " 'Livingston',\n",
       " 'Edinburgh Waverley']"
      ]
     },
     "execution_count": 11,
     "metadata": {},
     "output_type": "execute_result"
    }
   ],
   "source": [
    "stops.remove(\"Haymarket\")\n",
    "stops"
   ]
  },
  {
   "cell_type": "code",
   "execution_count": 12,
   "id": "2cb2e401",
   "metadata": {},
   "outputs": [
    {
     "data": {
      "text/plain": [
       "[]"
      ]
     },
     "execution_count": 12,
     "metadata": {},
     "output_type": "execute_result"
    }
   ],
   "source": [
    "stops.clear()\n",
    "stops"
   ]
  },
  {
   "cell_type": "markdown",
   "id": "fb99b62b",
   "metadata": {},
   "source": [
    "# Question 3"
   ]
  },
  {
   "cell_type": "code",
   "execution_count": 13,
   "id": "95013dec",
   "metadata": {},
   "outputs": [],
   "source": [
    "person = {\"name\": \"Steph\", \"age\": 31, \"Instructor\" : True}"
   ]
  },
  {
   "cell_type": "code",
   "execution_count": 14,
   "id": "5fe4b791",
   "metadata": {},
   "outputs": [
    {
     "data": {
      "text/plain": [
       "dict_keys(['name', 'age', 'Instructor'])"
      ]
     },
     "execution_count": 14,
     "metadata": {},
     "output_type": "execute_result"
    }
   ],
   "source": [
    "person.keys()"
   ]
  },
  {
   "cell_type": "code",
   "execution_count": 15,
   "id": "3eaa93f9",
   "metadata": {},
   "outputs": [
    {
     "data": {
      "text/plain": [
       "dict_values(['Steph', 31, True])"
      ]
     },
     "execution_count": 15,
     "metadata": {},
     "output_type": "execute_result"
    }
   ],
   "source": [
    "person.values()"
   ]
  },
  {
   "cell_type": "code",
   "execution_count": 16,
   "id": "9d0388c2",
   "metadata": {},
   "outputs": [
    {
     "data": {
      "text/plain": [
       "dict_items([('name', 'Steph'), ('age', 31), ('Instructor', True)])"
      ]
     },
     "execution_count": 16,
     "metadata": {},
     "output_type": "execute_result"
    }
   ],
   "source": [
    "person.items()"
   ]
  },
  {
   "cell_type": "code",
   "execution_count": 17,
   "id": "1026c2ea",
   "metadata": {},
   "outputs": [
    {
     "data": {
      "text/plain": [
       "'Steph'"
      ]
     },
     "execution_count": 17,
     "metadata": {},
     "output_type": "execute_result"
    }
   ],
   "source": [
    "person[\"name\"]"
   ]
  },
  {
   "cell_type": "code",
   "execution_count": 18,
   "id": "4e15388f",
   "metadata": {},
   "outputs": [
    {
     "data": {
      "text/plain": [
       "{'name': 'Steph', 'age': 31, 'Instructor': True, 'email': 'steph@codeclan.com'}"
      ]
     },
     "execution_count": 18,
     "metadata": {},
     "output_type": "execute_result"
    }
   ],
   "source": [
    "person.update({\n",
    "    \"email\": \"steph@codeclan.com\"\n",
    "})\n",
    "person"
   ]
  },
  {
   "cell_type": "code",
   "execution_count": 19,
   "id": "ad55a766",
   "metadata": {},
   "outputs": [
    {
     "data": {
      "text/plain": [
       "{'name': 'Steph', 'age': 31, 'email': 'steph@codeclan.com'}"
      ]
     },
     "execution_count": 19,
     "metadata": {},
     "output_type": "execute_result"
    }
   ],
   "source": [
    "del person[\"Instructor\"]\n",
    "person"
   ]
  },
  {
   "cell_type": "markdown",
   "id": "b7df7b96",
   "metadata": {},
   "source": [
    "# Question 4"
   ]
  },
  {
   "cell_type": "code",
   "execution_count": 20,
   "id": "f57289d4",
   "metadata": {},
   "outputs": [],
   "source": [
    "numbers = [1, 6, 2, 2, 7, 1, 6, 13, 99, 7]"
   ]
  },
  {
   "cell_type": "code",
   "execution_count": 22,
   "id": "266a9412",
   "metadata": {},
   "outputs": [
    {
     "data": {
      "text/plain": [
       "[6, 2, 2, 6]"
      ]
     },
     "execution_count": 22,
     "metadata": {},
     "output_type": "execute_result"
    }
   ],
   "source": [
    "even_numbers = []\n",
    "for number in numbers:\n",
    "    if number % 2 == 0:\n",
    "        even_numbers.append(number)\n",
    "\n",
    "even_numbers"
   ]
  },
  {
   "cell_type": "code",
   "execution_count": 23,
   "id": "4affe543",
   "metadata": {},
   "outputs": [
    {
     "data": {
      "text/plain": [
       "98"
      ]
     },
     "execution_count": 23,
     "metadata": {},
     "output_type": "execute_result"
    }
   ],
   "source": [
    "max(numbers) - min(numbers)"
   ]
  },
  {
   "cell_type": "code",
   "execution_count": 63,
   "id": "62372286",
   "metadata": {},
   "outputs": [
    {
     "name": "stdout",
     "output_type": "stream",
     "text": [
      "True\n"
     ]
    }
   ],
   "source": [
    "for i in range(len(numbers)):\n",
    "    if numbers[i] == 2 and numbers[i+1] == 2:\n",
    "        print(\"True\")"
   ]
  },
  {
   "cell_type": "code",
   "execution_count": 88,
   "id": "62cf7511",
   "metadata": {},
   "outputs": [
    {
     "name": "stdout",
     "output_type": "stream",
     "text": [
      "2\n"
     ]
    }
   ],
   "source": [
    "add = True\n",
    "running_sum = 0\n",
    "\n",
    "for i in range(0, len(numbers)):\n",
    "    if numbers[i] == 6:\n",
    "        add = False\n",
    "    elif numbers[i] == 7:\n",
    "        add = True\n",
    "    elif add == True:\n",
    "        running_sum += numbers[i]\n",
    "\n",
    "print(running_sum)"
   ]
  },
  {
   "cell_type": "markdown",
   "id": "2dabb61a",
   "metadata": {},
   "source": [
    "# Question 5"
   ]
  },
  {
   "cell_type": "code",
   "execution_count": 89,
   "id": "5ce4f281",
   "metadata": {},
   "outputs": [],
   "source": [
    "def python_review(python_is_fun, python_is_weird):\n",
    "    if python_is_fun == True or python_is_weird == True:\n",
    "        return \"Woo Python!\"\n",
    "    elif python_is_fun == True and python_is_weird == True:\n",
    "        return \"Woo Python!\"\n",
    "    else:\n",
    "        return \"Python is not for me!\""
   ]
  },
  {
   "cell_type": "code",
   "execution_count": 90,
   "id": "8ff6310b",
   "metadata": {},
   "outputs": [
    {
     "data": {
      "text/plain": [
       "'Woo Python!'"
      ]
     },
     "execution_count": 90,
     "metadata": {},
     "output_type": "execute_result"
    }
   ],
   "source": [
    "python_review(True, True)"
   ]
  },
  {
   "cell_type": "code",
   "execution_count": 91,
   "id": "5cb8df55",
   "metadata": {},
   "outputs": [
    {
     "data": {
      "text/plain": [
       "'Woo Python!'"
      ]
     },
     "execution_count": 91,
     "metadata": {},
     "output_type": "execute_result"
    }
   ],
   "source": [
    "python_review(True, False)"
   ]
  },
  {
   "cell_type": "code",
   "execution_count": 92,
   "id": "705017bd",
   "metadata": {},
   "outputs": [
    {
     "data": {
      "text/plain": [
       "'Woo Python!'"
      ]
     },
     "execution_count": 92,
     "metadata": {},
     "output_type": "execute_result"
    }
   ],
   "source": [
    "python_review(False, True)"
   ]
  },
  {
   "cell_type": "code",
   "execution_count": 93,
   "id": "582eacf2",
   "metadata": {},
   "outputs": [
    {
     "data": {
      "text/plain": [
       "'Python is not for me!'"
      ]
     },
     "execution_count": 93,
     "metadata": {},
     "output_type": "execute_result"
    }
   ],
   "source": [
    "python_review(False, False)"
   ]
  },
  {
   "cell_type": "markdown",
   "id": "d7260794",
   "metadata": {},
   "source": [
    "# Question 6"
   ]
  },
  {
   "cell_type": "code",
   "execution_count": 101,
   "id": "61dd74f1",
   "metadata": {},
   "outputs": [],
   "source": [
    "chickens = [\n",
    "  { \"name\": \"Margaret\", \"age\": 2, \"eggs\": 0 },\n",
    "  { \"name\": \"Hetty\", \"age\": 1, \"eggs\": 2 },\n",
    "  { \"name\": \"Henrietta\", \"age\": 3, \"eggs\": 1 },\n",
    "  { \"name\": \"Audrey\", \"age\": 2, \"eggs\": 0 },\n",
    "  { \"name\": \"Mabel\", \"age\": 5, \"eggs\": 1 },\n",
    "]"
   ]
  },
  {
   "cell_type": "code",
   "execution_count": 95,
   "id": "3ff27b7d",
   "metadata": {},
   "outputs": [
    {
     "name": "stdout",
     "output_type": "stream",
     "text": [
      "4 eggs collected\n"
     ]
    }
   ],
   "source": [
    "total_eggs = 0\n",
    "\n",
    "for chicken in chickens:\n",
    "    total_eggs += chicken[\"eggs\"]\n",
    "    chicken[\"eggs\"] = 0 # eggs have been collected\n",
    "\n",
    "print(f\"{total_eggs} eggs collected\")"
   ]
  },
  {
   "cell_type": "code",
   "execution_count": 99,
   "id": "a876f40e",
   "metadata": {},
   "outputs": [],
   "source": [
    "def count_eggs(chicken_list):\n",
    "    total_eggs = 0\n",
    "    for chicken in chicken_list:\n",
    "        total_eggs += chicken[\"eggs\"]\n",
    "        chicken[\"eggs\"] = 0 # eggs have been collected\n",
    "    \n",
    "    return f\"{total_eggs} eggs collected\""
   ]
  },
  {
   "cell_type": "code",
   "execution_count": 102,
   "id": "1f4f5ef1",
   "metadata": {},
   "outputs": [
    {
     "data": {
      "text/plain": [
       "'4 eggs collected'"
      ]
     },
     "execution_count": 102,
     "metadata": {},
     "output_type": "execute_result"
    }
   ],
   "source": [
    "count_eggs(chickens)"
   ]
  },
  {
   "cell_type": "markdown",
   "id": "384f8119",
   "metadata": {},
   "source": [
    "# Extensions\n",
    "## Question 1"
   ]
  },
  {
   "cell_type": "code",
   "execution_count": 103,
   "id": "f940563e",
   "metadata": {},
   "outputs": [],
   "source": [
    "united_kingdom = [\n",
    "  {\n",
    "    \"name\": \"Scotland\",\n",
    "    \"population\": 5295000,\n",
    "    \"capital\": \"Edinburgh\"\n",
    "  },\n",
    "  {\n",
    "    \"name\": \"Wales\",\n",
    "    \"population\": 3063000,\n",
    "    \"capital\": \"Swansea\"\n",
    "  },\n",
    "  {\n",
    "    \"name\": \"England\",\n",
    "    \"population\": 53010000,\n",
    "    \"capital\": \"London\"\n",
    "  }\n",
    "]"
   ]
  },
  {
   "cell_type": "code",
   "execution_count": 105,
   "id": "6c2c186e",
   "metadata": {},
   "outputs": [],
   "source": [
    "united_kingdom[1][\"capital\"] = \"Cardiff\""
   ]
  },
  {
   "cell_type": "code",
   "execution_count": 106,
   "id": "82291887",
   "metadata": {},
   "outputs": [
    {
     "data": {
      "text/plain": [
       "{'name': 'Wales', 'population': 3063000, 'capital': 'Cardiff'}"
      ]
     },
     "execution_count": 106,
     "metadata": {},
     "output_type": "execute_result"
    }
   ],
   "source": [
    "united_kingdom[1]"
   ]
  },
  {
   "cell_type": "code",
   "execution_count": 107,
   "id": "f67baff0",
   "metadata": {},
   "outputs": [],
   "source": [
    "united_kingdom.append({\n",
    "    \"name\": \"Northern Ireland\",\n",
    "    \"population\": 1811000,\n",
    "    \"capital\": \"Belfast\"\n",
    "})"
   ]
  },
  {
   "cell_type": "code",
   "execution_count": 108,
   "id": "6ffe2200",
   "metadata": {},
   "outputs": [
    {
     "data": {
      "text/plain": [
       "[{'name': 'Scotland', 'population': 5295000, 'capital': 'Edinburgh'},\n",
       " {'name': 'Wales', 'population': 3063000, 'capital': 'Cardiff'},\n",
       " {'name': 'England', 'population': 53010000, 'capital': 'London'},\n",
       " {'name': 'Northern Ireland', 'population': 1811000, 'capital': 'Belfast'}]"
      ]
     },
     "execution_count": 108,
     "metadata": {},
     "output_type": "execute_result"
    }
   ],
   "source": [
    "united_kingdom"
   ]
  },
  {
   "cell_type": "code",
   "execution_count": 109,
   "id": "39ce7ee6",
   "metadata": {},
   "outputs": [
    {
     "name": "stdout",
     "output_type": "stream",
     "text": [
      "Scotland\n",
      "Wales\n",
      "England\n",
      "Northern Ireland\n"
     ]
    }
   ],
   "source": [
    "for country in united_kingdom:\n",
    "    print(country[\"name\"])"
   ]
  },
  {
   "cell_type": "code",
   "execution_count": 112,
   "id": "3f52b3e9",
   "metadata": {},
   "outputs": [
    {
     "data": {
      "text/plain": [
       "63179000"
      ]
     },
     "execution_count": 112,
     "metadata": {},
     "output_type": "execute_result"
    }
   ],
   "source": [
    "total_pop = 0\n",
    "\n",
    "for country in united_kingdom:\n",
    "    total_pop += country[\"population\"]\n",
    "    \n",
    "total_pop"
   ]
  },
  {
   "cell_type": "markdown",
   "id": "d4c2a0f3",
   "metadata": {},
   "source": [
    "## Question 2"
   ]
  },
  {
   "cell_type": "code",
   "execution_count": 113,
   "id": "58f9bfc7",
   "metadata": {},
   "outputs": [],
   "source": [
    "users = {\n",
    "  \"Jonathan\": {\n",
    "    \"twitter\": \"jonnyt\",\n",
    "    \"lottery_numbers\": [6, 12, 49, 33, 45, 20],\n",
    "    \"home_town\": \"Stirling\",\n",
    "    \"pets\": [\n",
    "    {\n",
    "      \"name\": \"fluffy\",\n",
    "      \"species\": \"cat\"\n",
    "    },\n",
    "    {\n",
    "      \"name\": \"fido\",\n",
    "      \"species\": \"dog\"\n",
    "    },\n",
    "    {\n",
    "      \"name\": \"spike\",\n",
    "      \"species\": \"dog\"\n",
    "    }\n",
    "  ]\n",
    "  },\n",
    "  \"Erik\": {\n",
    "    \"twitter\": \"eriksf\",\n",
    "    \"lottery_numbers\": [18, 34, 8, 11, 24],\n",
    "    \"home_town\": \"Linlithgow\",\n",
    "    \"pets\": [\n",
    "    {\n",
    "      \"name\": \"nemo\",\n",
    "      \"species\": \"fish\"\n",
    "    },\n",
    "    {\n",
    "      \"name\": \"kevin\",\n",
    "      \"species\": \"fish\"\n",
    "    },\n",
    "    {\n",
    "      \"name\": \"spike\",\n",
    "      \"species\": \"dog\"\n",
    "    },\n",
    "    {\n",
    "      \"name\": \"rupert\",\n",
    "      \"species\": \"parrot\"\n",
    "    }\n",
    "  ]\n",
    "  },\n",
    "  \"Avril\": {\n",
    "    \"twitter\": \"bridgpally\",\n",
    "    \"lottery_numbers\": [12, 14, 33, 38, 9, 25],\n",
    "    \"home_town\": \"Dunbar\",\n",
    "    \"pets\": [\n",
    "      {\n",
    "        \"name\": \"monty\",\n",
    "        \"species\": \"snake\"\n",
    "      }\n",
    "    ]\n",
    "  }\n",
    "}"
   ]
  },
  {
   "cell_type": "code",
   "execution_count": 115,
   "id": "3755ebda",
   "metadata": {},
   "outputs": [
    {
     "data": {
      "text/plain": [
       "'jonnyt'"
      ]
     },
     "execution_count": 115,
     "metadata": {},
     "output_type": "execute_result"
    }
   ],
   "source": [
    "users[\"Jonathan\"][\"twitter\"]"
   ]
  },
  {
   "cell_type": "code",
   "execution_count": 116,
   "id": "d1b157ac",
   "metadata": {},
   "outputs": [
    {
     "data": {
      "text/plain": [
       "'Linlithgow'"
      ]
     },
     "execution_count": 116,
     "metadata": {},
     "output_type": "execute_result"
    }
   ],
   "source": [
    "users[\"Erik\"][\"home_town\"]"
   ]
  },
  {
   "cell_type": "code",
   "execution_count": 117,
   "id": "4f056747",
   "metadata": {},
   "outputs": [
    {
     "data": {
      "text/plain": [
       "[18, 34, 8, 11, 24]"
      ]
     },
     "execution_count": 117,
     "metadata": {},
     "output_type": "execute_result"
    }
   ],
   "source": [
    "users[\"Erik\"][\"lottery_numbers\"]"
   ]
  },
  {
   "cell_type": "code",
   "execution_count": 134,
   "id": "5b96921d",
   "metadata": {},
   "outputs": [
    {
     "data": {
      "text/plain": [
       "'snake'"
      ]
     },
     "execution_count": 134,
     "metadata": {},
     "output_type": "execute_result"
    }
   ],
   "source": [
    "users[\"Avril\"][\"pets\"][0][\"species\"]"
   ]
  },
  {
   "cell_type": "code",
   "execution_count": 137,
   "id": "1e4472f4",
   "metadata": {},
   "outputs": [
    {
     "data": {
      "text/plain": [
       "8"
      ]
     },
     "execution_count": 137,
     "metadata": {},
     "output_type": "execute_result"
    }
   ],
   "source": [
    "min(users[\"Erik\"][\"lottery_numbers\"])"
   ]
  },
  {
   "cell_type": "code",
   "execution_count": 147,
   "id": "5af8f9d8",
   "metadata": {},
   "outputs": [
    {
     "data": {
      "text/plain": [
       "{12, 14, 38}"
      ]
     },
     "execution_count": 147,
     "metadata": {},
     "output_type": "execute_result"
    }
   ],
   "source": [
    "{nums for nums in users[\"Avril\"][\"lottery_numbers\"] if nums % 2 == 0}"
   ]
  },
  {
   "cell_type": "code",
   "execution_count": 150,
   "id": "a93c61ba",
   "metadata": {},
   "outputs": [],
   "source": [
    "users[\"Erik\"][\"lottery_numbers\"].append(7)"
   ]
  },
  {
   "cell_type": "code",
   "execution_count": 151,
   "id": "78facfcd",
   "metadata": {},
   "outputs": [
    {
     "data": {
      "text/plain": [
       "[18, 34, 8, 11, 24, 7]"
      ]
     },
     "execution_count": 151,
     "metadata": {},
     "output_type": "execute_result"
    }
   ],
   "source": [
    "users[\"Erik\"][\"lottery_numbers\"]"
   ]
  },
  {
   "cell_type": "code",
   "execution_count": 153,
   "id": "e5c4e6c2",
   "metadata": {},
   "outputs": [],
   "source": [
    "users[\"Erik\"].update({\n",
    "    \"home_town\": \"Edinburgh\"\n",
    "})"
   ]
  },
  {
   "cell_type": "code",
   "execution_count": 154,
   "id": "dc6a3020",
   "metadata": {},
   "outputs": [
    {
     "data": {
      "text/plain": [
       "{'twitter': 'eriksf',\n",
       " 'lottery_numbers': [18, 34, 8, 11, 24, 7],\n",
       " 'home_town': 'Edinburgh',\n",
       " 'pets': [{'name': 'nemo', 'species': 'fish'},\n",
       "  {'name': 'kevin', 'species': 'fish'},\n",
       "  {'name': 'spike', 'species': 'dog'},\n",
       "  {'name': 'rupert', 'species': 'parrot'}]}"
      ]
     },
     "execution_count": 154,
     "metadata": {},
     "output_type": "execute_result"
    }
   ],
   "source": [
    "users[\"Erik\"]"
   ]
  },
  {
   "cell_type": "code",
   "execution_count": 155,
   "id": "fa2ea20c",
   "metadata": {},
   "outputs": [],
   "source": [
    "users[\"Erik\"][\"pets\"].append({\n",
    "    \"name\": \"Fluffy\",\n",
    "    \"species\": \"dog\"\n",
    "})"
   ]
  },
  {
   "cell_type": "code",
   "execution_count": 156,
   "id": "6e25f1e7",
   "metadata": {},
   "outputs": [
    {
     "data": {
      "text/plain": [
       "{'Jonathan': {'twitter': 'jonnyt',\n",
       "  'lottery_numbers': [6, 12, 49, 33, 45, 20],\n",
       "  'home_town': 'Stirling',\n",
       "  'pets': [{'name': 'fluffy', 'species': 'cat'},\n",
       "   {'name': 'fido', 'species': 'dog'},\n",
       "   {'name': 'spike', 'species': 'dog'}]},\n",
       " 'Erik': {'twitter': 'eriksf',\n",
       "  'lottery_numbers': [18, 34, 8, 11, 24, 7],\n",
       "  'home_town': 'Edinburgh',\n",
       "  'pets': [{'name': 'nemo', 'species': 'fish'},\n",
       "   {'name': 'kevin', 'species': 'fish'},\n",
       "   {'name': 'spike', 'species': 'dog'},\n",
       "   {'name': 'rupert', 'species': 'parrot'},\n",
       "   {'name': 'Fluffy', 'species': 'dog'}]},\n",
       " 'Avril': {'twitter': 'bridgpally',\n",
       "  'lottery_numbers': [12, 14, 33, 38, 9, 25],\n",
       "  'home_town': 'Dunbar',\n",
       "  'pets': [{'name': 'monty', 'species': 'snake'}]}}"
      ]
     },
     "execution_count": 156,
     "metadata": {},
     "output_type": "execute_result"
    }
   ],
   "source": [
    "users"
   ]
  },
  {
   "cell_type": "code",
   "execution_count": 163,
   "id": "d980d3ab",
   "metadata": {},
   "outputs": [],
   "source": [
    "users.update({\n",
    "    \"Chris\": {}\n",
    "})"
   ]
  },
  {
   "cell_type": "code",
   "execution_count": 164,
   "id": "d1d291b6",
   "metadata": {},
   "outputs": [
    {
     "data": {
      "text/plain": [
       "{'Jonathan': {'twitter': 'jonnyt',\n",
       "  'lottery_numbers': [6, 12, 49, 33, 45, 20],\n",
       "  'home_town': 'Stirling',\n",
       "  'pets': [{'name': 'fluffy', 'species': 'cat'},\n",
       "   {'name': 'fido', 'species': 'dog'},\n",
       "   {'name': 'spike', 'species': 'dog'}]},\n",
       " 'Erik': {'twitter': 'eriksf',\n",
       "  'lottery_numbers': [18, 34, 8, 11, 24, 7],\n",
       "  'home_town': 'Edinburgh',\n",
       "  'pets': [{'name': 'nemo', 'species': 'fish'},\n",
       "   {'name': 'kevin', 'species': 'fish'},\n",
       "   {'name': 'spike', 'species': 'dog'},\n",
       "   {'name': 'rupert', 'species': 'parrot'},\n",
       "   {'name': 'Fluffy', 'species': 'dog'}]},\n",
       " 'Avril': {'twitter': 'bridgpally',\n",
       "  'lottery_numbers': [12, 14, 33, 38, 9, 25],\n",
       "  'home_town': 'Dunbar',\n",
       "  'pets': [{'name': 'monty', 'species': 'snake'}]},\n",
       " 'Chris': {}}"
      ]
     },
     "execution_count": 164,
     "metadata": {},
     "output_type": "execute_result"
    }
   ],
   "source": [
    "users"
   ]
  },
  {
   "cell_type": "code",
   "execution_count": null,
   "id": "0b7811e1",
   "metadata": {},
   "outputs": [],
   "source": []
  }
 ],
 "metadata": {
  "kernelspec": {
   "display_name": "Python 3 (ipykernel)",
   "language": "python",
   "name": "python3"
  },
  "language_info": {
   "codemirror_mode": {
    "name": "ipython",
    "version": 3
   },
   "file_extension": ".py",
   "mimetype": "text/x-python",
   "name": "python",
   "nbconvert_exporter": "python",
   "pygments_lexer": "ipython3",
   "version": "3.9.12"
  },
  "varInspector": {
   "cols": {
    "lenName": 16,
    "lenType": 16,
    "lenVar": 40
   },
   "kernels_config": {
    "python": {
     "delete_cmd_postfix": "",
     "delete_cmd_prefix": "del ",
     "library": "var_list.py",
     "varRefreshCmd": "print(var_dic_list())"
    },
    "r": {
     "delete_cmd_postfix": ") ",
     "delete_cmd_prefix": "rm(",
     "library": "var_list.r",
     "varRefreshCmd": "cat(var_dic_list()) "
    }
   },
   "types_to_exclude": [
    "module",
    "function",
    "builtin_function_or_method",
    "instance",
    "_Feature"
   ],
   "window_display": false
  }
 },
 "nbformat": 4,
 "nbformat_minor": 5
}
